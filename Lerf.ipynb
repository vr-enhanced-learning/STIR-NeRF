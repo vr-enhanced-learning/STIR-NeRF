{
  "nbformat": 4,
  "nbformat_minor": 0,
  "metadata": {
    "colab": {
      "provenance": []
    },
    "kernelspec": {
      "name": "python3",
      "display_name": "Python 3"
    },
    "language_info": {
      "name": "python"
    }
  },
  "cells": [
    {
      "cell_type": "code",
      "source": [
        "import torch\n",
        "import torchvision.transforms as transforms\n",
        "import imageio\n",
        "from nerf import NeRFModel\n",
        "\n",
        "def load_image(image_path):\n",
        "    image = imageio.imread(image_path)\n",
        "    transform = transforms.Compose([\n",
        "        transforms.ToTensor(),\n",
        "        transforms.Normalize([0.5, 0.5, 0.5], [0.5, 0.5, 0.5])\n",
        "    ])\n",
        "    return transform(image).unsqueeze(0)\n",
        "\n",
        "def generate_3d_model(nerf_model, input_image, output_path):\n",
        "    model = NeRFModel.from_pretrained(nerf_model)\n",
        "    model.eval()\n",
        "\n",
        "    with torch.no_grad():\n",
        "        points, colors = model(input_image)\n",
        "        points = points.cpu().numpy()\n",
        "        colors = colors.cpu().numpy()\n",
        "\n",
        "    save_points_and_colors_to_obj(output_path, points, colors)\n",
        "\n",
        "def save_points_and_colors_to_obj(output_path, points, colors):\n",
        "    with open(output_path, \"w\") as f:\n",
        "        for i in range(points.shape[0]):\n",
        "            f.write(f\"v {points[i, 0]} {points[i, 1]} {points[i, 2]} {colors[i, 0]} {colors[i, 1]} {colors[i, 2]}\\n\")\n",
        "\n",
        "if __name__ == \"__main__\":\n",
        "    nerf_model = \"path/to/your/pretrained/nerf/model\"\n",
        "    input_image_path = \"output/output4.jpg\"\n",
        "    output_obj_path = \"output/output4.obj\"\n",
        "\n",
        "    input_image = load_image(input_image_path)\n",
        "    generate_3d_model(nerf_model, input_image, output_obj_path)\n",
        "\n",
        "    print(f\"3D model saved to {output_obj_path}\")\n"
      ],
      "metadata": {
        "id": "XpGO31sWRXj4"
      },
      "execution_count": null,
      "outputs": []
    }
  ]
}